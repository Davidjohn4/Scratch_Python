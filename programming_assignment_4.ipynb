{
  "cells": [
    {
      "cell_type": "markdown",
      "metadata": {
        "id": "view-in-github",
        "colab_type": "text"
      },
      "source": [
        "<a href=\"https://colab.research.google.com/github/Davidjohn4/Scratch_Python/blob/main/programming_assignment_4.ipynb\" target=\"_parent\"><img src=\"https://colab.research.google.com/assets/colab-badge.svg\" alt=\"Open In Colab\"/></a>"
      ]
    },
    {
      "cell_type": "markdown",
      "id": "20cb4340",
      "metadata": {
        "id": "20cb4340"
      },
      "source": [
        "## Programming Assignment_4\n",
        "----------------"
      ]
    },
    {
      "cell_type": "markdown",
      "id": "4fdb6695",
      "metadata": {
        "id": "4fdb6695"
      },
      "source": [
        "### 1. Write a Python Program to Find the Factorial of a Number?"
      ]
    },
    {
      "cell_type": "code",
      "source": [
        "num=eval(input(\"Enter the Value\"))  #user wise input\n",
        "factorial=1 # it start with 1\n",
        "for i in range(1,num+1): #using for loop add + 1\n",
        "  factorial *=i # multiple the value user input\n",
        "  print(factorial) #print on it"
      ],
      "metadata": {
        "id": "hOeAnUwS8YPP",
        "outputId": "cbfbb24d-2307-4185-81ed-33f118bbfa81",
        "colab": {
          "base_uri": "https://localhost:8080/"
        }
      },
      "id": "hOeAnUwS8YPP",
      "execution_count": null,
      "outputs": [
        {
          "output_type": "stream",
          "name": "stdout",
          "text": [
            "Enter the Value7\n",
            "1\n",
            "2\n",
            "6\n",
            "24\n",
            "120\n",
            "720\n",
            "5040\n"
          ]
        }
      ]
    },
    {
      "cell_type": "markdown",
      "id": "e6beef62",
      "metadata": {
        "id": "e6beef62"
      },
      "source": [
        "### 2. Write a Python Program to Display the multiplication Table?"
      ]
    },
    {
      "cell_type": "code",
      "source": [
        "for i in range(1, 6):\n",
        "    print(i)"
      ],
      "metadata": {
        "id": "_DHMX7eJu5pz",
        "outputId": "3f7e6699-c4d6-4239-cc1e-1e5218b0f58b",
        "colab": {
          "base_uri": "https://localhost:8080/"
        }
      },
      "id": "_DHMX7eJu5pz",
      "execution_count": null,
      "outputs": [
        {
          "output_type": "stream",
          "name": "stdout",
          "text": [
            "1\n",
            "2\n",
            "3\n",
            "4\n",
            "5\n"
          ]
        }
      ]
    },
    {
      "cell_type": "code",
      "source": [
        "num =eval(input(\"Enter the value : \"))\n",
        "for i in range(1,11):\n",
        "  print(f\"{num} x {i} = {num*i}\")"
      ],
      "metadata": {
        "id": "KRlnRPqETMOx",
        "outputId": "c9a29001-8b17-44ba-f47a-44917be1ac94",
        "colab": {
          "base_uri": "https://localhost:8080/"
        }
      },
      "id": "KRlnRPqETMOx",
      "execution_count": null,
      "outputs": [
        {
          "output_type": "stream",
          "name": "stdout",
          "text": [
            "Enter the value : 2\n",
            "2 x 1 = 2\n",
            "2 x 2 = 4\n",
            "2 x 3 = 6\n",
            "2 x 4 = 8\n",
            "2 x 5 = 10\n",
            "2 x 6 = 12\n",
            "2 x 7 = 14\n",
            "2 x 8 = 16\n",
            "2 x 9 = 18\n",
            "2 x 10 = 20\n"
          ]
        }
      ]
    },
    {
      "cell_type": "markdown",
      "source": [],
      "metadata": {
        "id": "-DGZq5N22z65"
      },
      "id": "-DGZq5N22z65"
    },
    {
      "cell_type": "markdown",
      "id": "7de7eba5",
      "metadata": {
        "id": "7de7eba5"
      },
      "source": [
        "### 3. Write a Python Program to Print the Fibonacci sequence?\n"
      ]
    },
    {
      "cell_type": "code",
      "source": [
        "a,b=0,1\n",
        "for i in range(10):\n",
        "  a,b=b,a+b\n",
        "  print(i)"
      ],
      "metadata": {
        "id": "jbIdI4S7AKZY",
        "outputId": "c0573107-2053-4a43-cb32-32551de2baa7",
        "colab": {
          "base_uri": "https://localhost:8080/"
        }
      },
      "id": "jbIdI4S7AKZY",
      "execution_count": null,
      "outputs": [
        {
          "output_type": "stream",
          "name": "stdout",
          "text": [
            "0\n",
            "1\n",
            "2\n",
            "3\n",
            "4\n",
            "5\n",
            "6\n",
            "7\n",
            "8\n",
            "9\n"
          ]
        }
      ]
    },
    {
      "cell_type": "markdown",
      "id": "0446442e",
      "metadata": {
        "id": "0446442e"
      },
      "source": [
        "### 4. Write a Python Program to Check Armstrong Number?"
      ]
    },
    {
      "cell_type": "code",
      "source": [
        "num = 153\n",
        "num_str = str(num)\n",
        "\n",
        "num_of_digits = len(num_str)\n",
        "\n",
        "if num == sum(map(lambda x: pow(int(x), num_of_digits), num_str)):\n",
        "    print(num, \"is an Armstrong number\")\n",
        "else:\n",
        "    print(num, \"is not an Armstrong number\")"
      ],
      "metadata": {
        "id": "JvpRRj9cERrn",
        "outputId": "f9c45608-459c-4641-dedd-c74d8e0f8409",
        "colab": {
          "base_uri": "https://localhost:8080/"
        }
      },
      "id": "JvpRRj9cERrn",
      "execution_count": null,
      "outputs": [
        {
          "output_type": "stream",
          "name": "stdout",
          "text": [
            "153 is an Armstrong number\n"
          ]
        }
      ]
    },
    {
      "cell_type": "markdown",
      "id": "a6f9adfe",
      "metadata": {
        "id": "a6f9adfe"
      },
      "source": [
        "### 5. Write a Python Program to Find Armstrong Number in an Interval?"
      ]
    },
    {
      "cell_type": "code",
      "source": [
        "num = int(input(\"Enter a number: \"))\n",
        "\n",
        "# initialize sum\n",
        "sum = 0\n",
        "\n",
        "# find the sum of the cube of each digit\n",
        "temp = num\n",
        "while temp > 0:\n",
        "   digit = temp % 10\n",
        "   sum += digit ** 3\n",
        "   temp //= 10\n",
        "\n",
        "# display the result\n",
        "if num == sum:\n",
        "   print(num,\"is an Armstrong number\")\n",
        "else:\n",
        "   print(num,\"is not an Armstrong number\")"
      ],
      "metadata": {
        "id": "uMNNQl5HG15n",
        "outputId": "9120fd90-7b2f-421d-cecb-76331ff46ca5",
        "colab": {
          "base_uri": "https://localhost:8080/"
        }
      },
      "id": "uMNNQl5HG15n",
      "execution_count": null,
      "outputs": [
        {
          "output_type": "stream",
          "name": "stdout",
          "text": [
            "Enter a number: 6\n",
            "6 is not an Armstrong number\n"
          ]
        }
      ]
    },
    {
      "cell_type": "markdown",
      "source": [],
      "metadata": {
        "id": "qbmbp0_822o1"
      },
      "id": "qbmbp0_822o1"
    },
    {
      "cell_type": "markdown",
      "id": "157cad60",
      "metadata": {
        "id": "157cad60"
      },
      "source": [
        "### 6. Write a Python Program to Find the Sum of Natural Numbers?"
      ]
    },
    {
      "cell_type": "code",
      "source": [
        "try:\n",
        "    num = int(input(\"Enter the number : \"))\n",
        "    mat = num*(num+1)/2\n",
        "    print(mat)\n",
        "except ValueError:\n",
        "    print(\"Invalid input, please enter a number\")"
      ],
      "metadata": {
        "id": "956o7tpzFUPw",
        "outputId": "faecc113-dfec-4094-90ce-69836562b591",
        "colab": {
          "base_uri": "https://localhost:8080/"
        }
      },
      "id": "956o7tpzFUPw",
      "execution_count": null,
      "outputs": [
        {
          "output_type": "stream",
          "name": "stdout",
          "text": [
            "Enter the number : 5\n",
            "15.0\n"
          ]
        }
      ]
    }
  ],
  "metadata": {
    "kernelspec": {
      "display_name": "Python 3 (ipykernel)",
      "language": "python",
      "name": "python3"
    },
    "language_info": {
      "codemirror_mode": {
        "name": "ipython",
        "version": 3
      },
      "file_extension": ".py",
      "mimetype": "text/x-python",
      "name": "python",
      "nbconvert_exporter": "python",
      "pygments_lexer": "ipython3",
      "version": "3.9.12"
    },
    "colab": {
      "provenance": [],
      "include_colab_link": true
    }
  },
  "nbformat": 4,
  "nbformat_minor": 5
}