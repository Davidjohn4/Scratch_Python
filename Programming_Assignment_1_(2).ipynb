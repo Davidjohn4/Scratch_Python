{
  "cells": [
    {
      "cell_type": "markdown",
      "id": "637b47a5",
      "metadata": {
        "id": "637b47a5"
      },
      "source": [
        "## Programming Assignment_1\n",
        "-------------"
      ]
    },
    {
      "cell_type": "markdown",
      "id": "0c647dbe",
      "metadata": {
        "id": "0c647dbe"
      },
      "source": [
        "### 1. Write a Python program to print \"Hello Python\"?"
      ]
    },
    {
      "cell_type": "code",
      "source": [
        "print(\"HELLO PYHTON\");"
      ],
      "metadata": {
        "id": "f6ZBtGsAyv3S",
        "outputId": "29349660-8cb0-4d2e-b24e-14af23dedf2b",
        "colab": {
          "base_uri": "https://localhost:8080/"
        }
      },
      "id": "f6ZBtGsAyv3S",
      "execution_count": 2,
      "outputs": [
        {
          "output_type": "stream",
          "name": "stdout",
          "text": [
            "HELLO PYHTON\n"
          ]
        }
      ]
    },
    {
      "cell_type": "markdown",
      "id": "fc18a6cd",
      "metadata": {
        "id": "fc18a6cd"
      },
      "source": [
        "### 2. Write a Python program to do arithmetical operations addition and division.?\n"
      ]
    },
    {
      "cell_type": "code",
      "source": [
        "user_a = int(input(\"Enter the number Sir :- \"));\n",
        "user_b = int(input(\"Enter the number Ma'am :-\" ));\n",
        "print(\"As your wise to write both or any one 'Add' ,'div\")\n",
        "user_c= input(\"Pls enter add ,div :-\" );\n",
        "\n",
        "if user_c==\"Add\":\n",
        "  user_c= user_a + user_b\n",
        "  print(\"sum of \",user_a,\"and\",user_b,\"=\",user_c)\n",
        "elif user_c == \"div\":\n",
        "  user_c= user_a / user_b\n",
        "  print(\"div of \",user_a,\"and\",user_b,\"=\",user_c)\n",
        "else:\n",
        "   user_c= user_a + user_b\n",
        "   print(\"sum of \",user_a,\"and\",user_b,\"=\",user_c)\n",
        "   user_c= user_a / user_b\n",
        "   print(\"div of \",user_a,\"and\",user_b,\"=\",user_c);\n",
        "   "
      ],
      "metadata": {
        "id": "EDVb8dhizNDy",
        "outputId": "05b79fd5-6e8c-4cc2-9962-9724eb5d3fa0",
        "colab": {
          "base_uri": "https://localhost:8080/"
        }
      },
      "id": "EDVb8dhizNDy",
      "execution_count": 10,
      "outputs": [
        {
          "output_type": "stream",
          "name": "stdout",
          "text": [
            "Enter the number Sir :- 40\n",
            "Enter the number Ma'am :-50\n",
            "As your wise to write both or any one 'Add' ,'div\n",
            "Pls enter add ,div :-\n",
            "sum of  40 and 50 = 90\n",
            "div of  40 and 50 = 0.8\n"
          ]
        }
      ]
    },
    {
      "cell_type": "markdown",
      "id": "af6e2429",
      "metadata": {
        "id": "af6e2429"
      },
      "source": [
        "### 3. Write a Python program to find the area of a triangle?\n"
      ]
    },
    {
      "cell_type": "code",
      "source": [
        "num= eval(input(\"enter a number : \"))\n",
        "for i in range(num):\n",
        "  print(\"*\"*i)"
      ],
      "metadata": {
        "id": "IoZ3h0XYCm2I",
        "outputId": "e7b14ed0-58dd-4fe3-85c2-d440c4640ddb",
        "colab": {
          "base_uri": "https://localhost:8080/"
        }
      },
      "id": "IoZ3h0XYCm2I",
      "execution_count": 28,
      "outputs": [
        {
          "output_type": "stream",
          "name": "stdout",
          "text": [
            "enter a number5\n",
            "\n",
            "*\n",
            "**\n",
            "***\n",
            "****\n"
          ]
        }
      ]
    },
    {
      "cell_type": "markdown",
      "id": "b8140061",
      "metadata": {
        "id": "b8140061"
      },
      "source": [
        "### 4. Write a Python program to swap two variables?\n"
      ]
    },
    {
      "cell_type": "code",
      "source": [
        "a=10\n",
        "b=5\n",
        "c=a\n",
        "a=b\n",
        "\n",
        "print(\"b : \",a,\"\\na : \",c)"
      ],
      "metadata": {
        "id": "X0WuNrhdB6rQ",
        "outputId": "3ae73b7a-7b82-4d6e-a111-1eb580633ced",
        "colab": {
          "base_uri": "https://localhost:8080/"
        }
      },
      "id": "X0WuNrhdB6rQ",
      "execution_count": 26,
      "outputs": [
        {
          "output_type": "stream",
          "name": "stdout",
          "text": [
            "b :  5 \n",
            "a :  10\n"
          ]
        }
      ]
    },
    {
      "cell_type": "markdown",
      "id": "3f8054c1",
      "metadata": {
        "id": "3f8054c1"
      },
      "source": [
        "### 5. Write a Python program to generate a random number?\n"
      ]
    },
    {
      "cell_type": "code",
      "source": [
        "import random as r\n",
        "number=r.randint(1,10)\n",
        "print(number)"
      ],
      "metadata": {
        "id": "wrpUIjFm3A-5",
        "outputId": "1a1559c7-b8a0-4526-dfd2-eb72d911b5e5",
        "colab": {
          "base_uri": "https://localhost:8080/"
        }
      },
      "id": "wrpUIjFm3A-5",
      "execution_count": 31,
      "outputs": [
        {
          "output_type": "stream",
          "name": "stdout",
          "text": [
            "1\n"
          ]
        }
      ]
    }
  ],
  "metadata": {
    "kernelspec": {
      "display_name": "Python 3 (ipykernel)",
      "language": "python",
      "name": "python3"
    },
    "language_info": {
      "codemirror_mode": {
        "name": "ipython",
        "version": 3
      },
      "file_extension": ".py",
      "mimetype": "text/x-python",
      "name": "python",
      "nbconvert_exporter": "python",
      "pygments_lexer": "ipython3",
      "version": "3.9.12"
    },
    "colab": {
      "provenance": []
    }
  },
  "nbformat": 4,
  "nbformat_minor": 5
}