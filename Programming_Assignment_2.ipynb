{
  "cells": [
    {
      "cell_type": "markdown",
      "metadata": {
        "id": "view-in-github",
        "colab_type": "text"
      },
      "source": [
        "<a href=\"https://colab.research.google.com/github/Davidjohn4/Scratch_Python/blob/main/Programming_Assignment_2.ipynb\" target=\"_parent\"><img src=\"https://colab.research.google.com/assets/colab-badge.svg\" alt=\"Open In Colab\"/></a>"
      ]
    },
    {
      "cell_type": "markdown",
      "id": "08c66ea5",
      "metadata": {
        "id": "08c66ea5"
      },
      "source": [
        "## Programming Assignment_2\n",
        "-------------"
      ]
    },
    {
      "cell_type": "markdown",
      "id": "4e50cf42",
      "metadata": {
        "id": "4e50cf42"
      },
      "source": [
        ":1. Write a Python program to convert kilometers to miles?\n"
      ]
    },
    {
      "cell_type": "code",
      "source": [
        "Kilometers = eval(input(\"Enter the value : \"))\n",
        "miles = Kilometers * 0.6213711922     ## 1 kilometer  = 0.6213711922 miles\n",
        "miles"
      ],
      "metadata": {
        "id": "mWS-BAMzz6rL",
        "outputId": "c2d0aafc-635c-47b7-8900-21b523562b15",
        "colab": {
          "base_uri": "https://localhost:8080/"
        }
      },
      "id": "mWS-BAMzz6rL",
      "execution_count": null,
      "outputs": [
        {
          "name": "stdout",
          "output_type": "stream",
          "text": [
            "Enter the value : 5\n"
          ]
        },
        {
          "output_type": "execute_result",
          "data": {
            "text/plain": [
              "3.106855961"
            ]
          },
          "metadata": {},
          "execution_count": 2
        }
      ]
    },
    {
      "cell_type": "markdown",
      "id": "0df4e6bf",
      "metadata": {
        "id": "0df4e6bf"
      },
      "source": [
        "### 2.Write a Python program to convert Celsius to Fahrenheit?"
      ]
    },
    {
      "cell_type": "code",
      "source": [
        "Celsius = eval(input(\"Enter the value : \"))\n",
        "fahrenheit = (Celsius * 1.8000)+32  # 9/5 == 1.8000\n",
        "fahrenheit"
      ],
      "metadata": {
        "id": "W6y2GDDN1rKS",
        "outputId": "8a8453e0-eea9-4151-e1d6-35eb89a3e9c3",
        "colab": {
          "base_uri": "https://localhost:8080/"
        }
      },
      "id": "W6y2GDDN1rKS",
      "execution_count": null,
      "outputs": [
        {
          "name": "stdout",
          "output_type": "stream",
          "text": [
            "Enter the value : 10\n"
          ]
        },
        {
          "output_type": "execute_result",
          "data": {
            "text/plain": [
              "50.0"
            ]
          },
          "metadata": {},
          "execution_count": 3
        }
      ]
    },
    {
      "cell_type": "markdown",
      "source": [],
      "metadata": {
        "id": "Q-iUx4CQoppc"
      },
      "id": "Q-iUx4CQoppc"
    },
    {
      "cell_type": "markdown",
      "id": "46129b8e",
      "metadata": {
        "id": "46129b8e"
      },
      "source": [
        "3. Write a Python program to display calendar?\n"
      ]
    },
    {
      "cell_type": "code",
      "source": [
        "import calendar #import a library\n",
        "yy=2023 #give the year\n",
        "mm=1  #give the month\n",
        "print(calendar.month(yy,mm))"
      ],
      "metadata": {
        "colab": {
          "base_uri": "https://localhost:8080/"
        },
        "id": "XU36fazaiu2l",
        "outputId": "dceda0a0-bee2-4727-95e6-d8779b289a41"
      },
      "id": "XU36fazaiu2l",
      "execution_count": 1,
      "outputs": [
        {
          "output_type": "stream",
          "name": "stdout",
          "text": [
            "    January 2023\n",
            "Mo Tu We Th Fr Sa Su\n",
            "                   1\n",
            " 2  3  4  5  6  7  8\n",
            " 9 10 11 12 13 14 15\n",
            "16 17 18 19 20 21 22\n",
            "23 24 25 26 27 28 29\n",
            "30 31\n",
            "\n"
          ]
        }
      ]
    },
    {
      "cell_type": "markdown",
      "id": "db2bf0f7",
      "metadata": {
        "id": "db2bf0f7"
      },
      "source": [
        "### 4. Write a Python program to solve quadratic equation?"
      ]
    },
    {
      "cell_type": "code",
      "source": [
        "import cmath\n",
        "\n",
        "def solve_quadratic(a, b, c):\n",
        "    # calculate the discriminant\n",
        "    disc = cmath.sqrt(b**2 - 4*a*c)\n",
        "    \n",
        "    # calculate the two solutions\n",
        "    sol1 = (-b + disc) / (2*a)\n",
        "    sol2 = (-b - disc) / (2*a)\n",
        "    \n",
        "    return sol1, sol2\n",
        "\n",
        "# test the function\n",
        "a = 1\n",
        "b = -5\n",
        "c = 6\n",
        "print(solve_quadratic(a, b, c))"
      ],
      "metadata": {
        "colab": {
          "base_uri": "https://localhost:8080/"
        },
        "id": "sITLvzXKjEuR",
        "outputId": "d6a2a449-566a-44f0-ccba-dca597978740"
      },
      "id": "sITLvzXKjEuR",
      "execution_count": 3,
      "outputs": [
        {
          "output_type": "stream",
          "name": "stdout",
          "text": [
            "((3+0j), (2+0j))\n"
          ]
        }
      ]
    },
    {
      "cell_type": "markdown",
      "id": "f70f74c9",
      "metadata": {
        "id": "f70f74c9"
      },
      "source": [
        "5. Write a Python program to swap two variables without temp variable?"
      ]
    },
    {
      "cell_type": "code",
      "source": [
        "a=5\n",
        "b=6\n",
        "c=a\n",
        "d=b\n",
        "print(c),\n",
        "print(d)"
      ],
      "metadata": {
        "colab": {
          "base_uri": "https://localhost:8080/"
        },
        "id": "bJY73rVMi6up",
        "outputId": "0971b07c-df38-465e-dfcc-7aa77de975d5"
      },
      "id": "bJY73rVMi6up",
      "execution_count": 2,
      "outputs": [
        {
          "output_type": "stream",
          "name": "stdout",
          "text": [
            "5\n",
            "6\n"
          ]
        }
      ]
    }
  ],
  "metadata": {
    "kernelspec": {
      "display_name": "Python 3 (ipykernel)",
      "language": "python",
      "name": "python3"
    },
    "language_info": {
      "codemirror_mode": {
        "name": "ipython",
        "version": 3
      },
      "file_extension": ".py",
      "mimetype": "text/x-python",
      "name": "python",
      "nbconvert_exporter": "python",
      "pygments_lexer": "ipython3",
      "version": "3.9.12"
    },
    "colab": {
      "provenance": [],
      "include_colab_link": true
    }
  },
  "nbformat": 4,
  "nbformat_minor": 5
}